{
 "cells": [
  {
   "cell_type": "code",
   "execution_count": 2,
   "metadata": {},
   "outputs": [],
   "source": [
    "import sys\n",
    "sys.path.append(\"gnn\")\n",
    "from gnn.data import AseDBDataset"
   ]
  },
  {
   "cell_type": "code",
   "execution_count": 3,
   "metadata": {},
   "outputs": [],
   "source": [
    "from gnn.db2lmdb import create_lmdb_from_dataset"
   ]
  },
  {
   "cell_type": "code",
   "execution_count": 4,
   "metadata": {},
   "outputs": [
    {
     "name": "stderr",
     "output_type": "stream",
     "text": [
      "100%|██████████| 9320/9320 [00:30<00:00, 307.74it/s]\n",
      "100%|██████████| 9320/9320 [00:32<00:00, 285.97it/s]\n"
     ]
    }
   ],
   "source": [
    "config_db_1 = {\n",
    "    \"db_path\": \"hea_data.db\",\n",
    "    \"extra_db_keys\": [\"f_energy\", \"ads_name\"],\n",
    "    \"a2g_args\": {'r_distances': True},\n",
    "    \"apply_pre_convert\": 'com'  # center of mass\n",
    "}\n",
    "\n",
    "config_db_2 = {\n",
    "    \"db_path\": \"hea_data.db\",\n",
    "    \"extra_db_keys\": [\"f_energy\", \"ads_name\"],\n",
    "    \"a2g_args\": {'r_distances': True},\n",
    "    \"apply_pre_convert\": 'cop'  # center of position\n",
    "}\n",
    "\n",
    "create_lmdb_from_dataset(config_db=config_db_1, AseDBDataset=AseDBDataset, db_path=\"com.lmdb\")\n",
    "create_lmdb_from_dataset(config_db=config_db_2, AseDBDataset=AseDBDataset, db_path=\"cop.lmdb\")"
   ]
  },
  {
   "cell_type": "code",
   "execution_count": 7,
   "metadata": {},
   "outputs": [],
   "source": [
    "from gnn.db2lmdb import append_lmdb\n",
    "from gnn.data import AseDBDataset"
   ]
  },
  {
   "cell_type": "code",
   "execution_count": 10,
   "metadata": {},
   "outputs": [
    {
     "name": "stderr",
     "output_type": "stream",
     "text": [
      "100%|██████████| 126/126 [00:00<00:00, 258.08it/s]\n"
     ]
    }
   ],
   "source": [
    "config_db_1 = {\n",
    "    \"db_path\": \"pure_metal_ads_filter.db\",\n",
    "    \"extra_db_keys\": [\"f_energy\", \"ads_name\"],\n",
    "    \"a2g_args\": {'r_distances': True},\n",
    "    \"apply_pre_convert\": 'com'  # center of mass\n",
    "}\n",
    "\n",
    "append_lmdb(config_db_1, AseDBDataset, db_path=\"com.lmdb\")"
   ]
  },
  {
   "cell_type": "code",
   "execution_count": 12,
   "metadata": {},
   "outputs": [],
   "source": [
    "import lmdb\n",
    "import pickle\n",
    "\n",
    "def get_lmdb_length(db_path: str):\n",
    "    \"\"\"\n",
    "    Get the length (number of objects) of the LMDB database.\n",
    "\n",
    "    Parameters:\n",
    "    - db_path (str): Path to the LMDB database file.\n",
    "    \n",
    "    Returns:\n",
    "    - length (int): Number of objects in the LMDB database.\n",
    "    \"\"\"\n",
    "    # Open existing LMDB\n",
    "    db = lmdb.open(\n",
    "        db_path,\n",
    "        subdir=False,\n",
    "        readonly=True,\n",
    "    )\n",
    "\n",
    "    with db.begin(write=False) as txn:\n",
    "        length_data = txn.get(\"length\".encode(\"ascii\"))\n",
    "        if length_data is not None:\n",
    "            length = pickle.loads(length_data)\n",
    "        else:\n",
    "            length = 0  # Default to 0 if the length key is not found\n",
    "\n",
    "    db.close()\n",
    "    return length"
   ]
  },
  {
   "cell_type": "code",
   "execution_count": 13,
   "metadata": {},
   "outputs": [
    {
     "name": "stdout",
     "output_type": "stream",
     "text": [
      "The LMDB database contains 9320 objects.\n"
     ]
    }
   ],
   "source": [
    "# Example usage\n",
    "db_path = 'com.lmdb'\n",
    "length = get_lmdb_length(db_path)\n",
    "print(f\"The LMDB database contains {length} objects.\")"
   ]
  }
 ],
 "metadata": {
  "kernelspec": {
   "display_name": "jhub_env",
   "language": "python",
   "name": "python3"
  },
  "language_info": {
   "codemirror_mode": {
    "name": "ipython",
    "version": 3
   },
   "file_extension": ".py",
   "mimetype": "text/x-python",
   "name": "python",
   "nbconvert_exporter": "python",
   "pygments_lexer": "ipython3",
   "version": "3.12.2"
  }
 },
 "nbformat": 4,
 "nbformat_minor": 2
}
